{
  "cells": [
    {
      "cell_type": "markdown",
      "metadata": {
        "id": "view-in-github",
        "colab_type": "text"
      },
      "source": [
        "<a href=\"https://colab.research.google.com/github/Usman-12478/Twitter-Sentiment-Analysis-Complete-Project/blob/main/Project_3_%7C_Twitter_Sentiment_Analysis.ipynb\" target=\"_parent\"><img src=\"https://colab.research.google.com/assets/colab-badge.svg\" alt=\"Open In Colab\"/></a>"
      ]
    },
    {
      "cell_type": "code",
      "source": [
        "import os\n",
        "os.environ['KAGGLE_CONFIG_DIR'] = '/content'"
      ],
      "metadata": {
        "id": "bHqhwY2hP3HY"
      },
      "execution_count": null,
      "outputs": []
    },
    {
      "cell_type": "code",
      "source": [
        "! kaggle datasets download -d kazanova/sentiment140"
      ],
      "metadata": {
        "id": "P915HDq4SRyO",
        "outputId": "62c1c947-b200-4a9f-d137-d089fbb7f286",
        "colab": {
          "base_uri": "https://localhost:8080/"
        }
      },
      "execution_count": null,
      "outputs": [
        {
          "output_type": "stream",
          "name": "stdout",
          "text": [
            "Dataset URL: https://www.kaggle.com/datasets/kazanova/sentiment140\n",
            "License(s): other\n",
            "Downloading sentiment140.zip to /content\n",
            " 98% 79.0M/80.9M [00:04<00:00, 22.2MB/s]\n",
            "100% 80.9M/80.9M [00:04<00:00, 17.1MB/s]\n"
          ]
        }
      ]
    },
    {
      "cell_type": "markdown",
      "source": [
        "# **Importing Libraries**"
      ],
      "metadata": {
        "id": "47byRVijVpyM"
      }
    },
    {
      "cell_type": "code",
      "source": [
        "# General Libraries\n",
        "import pandas as pd\n",
        "import numpy as np\n",
        "import warnings\n",
        "warnings.filterwarnings('ignore')\n",
        "\n",
        "# Plotting Libraries\n",
        "import matplotlib.pyplot as plt\n",
        "import seaborn as sns\n",
        "%matplotlib inline\n",
        "from mlxtend.plotting import plot_confusion_matrix\n",
        "import matplotlib.cm as cm\n",
        "from matplotlib import rcParams\n",
        "plt.style.use('ggplot')\n",
        "\n",
        "# Machine Learnings Libraries\n",
        "from sklearn.metrics import roc_curve, auc, classification_report, confusion_matrix\n",
        "from sklearn.model_selection import train_test_split\n",
        "# NLP Libraries\n",
        "import nltk\n",
        "from nltk.corpus import stopwords\n",
        "from nltk.stem import WordNetLemmatizer\n",
        "from nltk.tokenize import word_tokenize\n",
        "import re\n",
        "import string\n",
        "from nltk.tokenize import RegexpTokenizer\n",
        "\n",
        "\n",
        "# Deep Learning Libraries\n",
        "import tensorflow\n",
        "from tensorflow.keras.preprocessing.text import Tokenizer\n",
        "from tensorflow.keras.layers import LSTM, Activation, Dropout, Dense, Input, Embedding\n",
        "from tensorflow.keras.models import Model\n",
        "from tensorflow.keras.optimizers import RMSprop\n",
        "from tensorflow.keras.preprocessing import sequence"
      ],
      "metadata": {
        "id": "N0UhXnaXTJTS"
      },
      "execution_count": null,
      "outputs": []
    },
    {
      "cell_type": "code",
      "source": [
        "df = pd.read_csv('', encoding = 'ISO-8859-1')\n",
        "df.columns = ['Label', 'Time', 'Date', 'Query', 'Username', 'Text']"
      ],
      "metadata": {
        "id": "txzv97QuTT-9"
      },
      "execution_count": null,
      "outputs": []
    },
    {
      "cell_type": "code",
      "source": [
        "df.head()"
      ],
      "metadata": {
        "id": "gUX5OHuzTWzr",
        "outputId": "45e46a2d-d045-47bb-d615-db889348a84b",
        "colab": {
          "base_uri": "https://localhost:8080/",
          "height": 206
        }
      },
      "execution_count": null,
      "outputs": [
        {
          "output_type": "execute_result",
          "data": {
            "text/plain": [
              "   Label        Time                          Date     Query       Username  \\\n",
              "0      0  1467810672  Mon Apr 06 22:19:49 PDT 2009  NO_QUERY  scotthamilton   \n",
              "1      0  1467810917  Mon Apr 06 22:19:53 PDT 2009  NO_QUERY       mattycus   \n",
              "2      0  1467811184  Mon Apr 06 22:19:57 PDT 2009  NO_QUERY        ElleCTF   \n",
              "3      0  1467811193  Mon Apr 06 22:19:57 PDT 2009  NO_QUERY         Karoli   \n",
              "4      0  1467811372  Mon Apr 06 22:20:00 PDT 2009  NO_QUERY       joy_wolf   \n",
              "\n",
              "                                                Text  \n",
              "0  is upset that he can't update his Facebook by ...  \n",
              "1  @Kenichan I dived many times for the ball. Man...  \n",
              "2    my whole body feels itchy and like its on fire   \n",
              "3  @nationwideclass no, it's not behaving at all....  \n",
              "4                      @Kwesidei not the whole crew   "
            ],
            "text/html": [
              "\n",
              "  <div id=\"df-e87861ee-d42d-4247-ab4d-83b346d89685\" class=\"colab-df-container\">\n",
              "    <div>\n",
              "<style scoped>\n",
              "    .dataframe tbody tr th:only-of-type {\n",
              "        vertical-align: middle;\n",
              "    }\n",
              "\n",
              "    .dataframe tbody tr th {\n",
              "        vertical-align: top;\n",
              "    }\n",
              "\n",
              "    .dataframe thead th {\n",
              "        text-align: right;\n",
              "    }\n",
              "</style>\n",
              "<table border=\"1\" class=\"dataframe\">\n",
              "  <thead>\n",
              "    <tr style=\"text-align: right;\">\n",
              "      <th></th>\n",
              "      <th>Label</th>\n",
              "      <th>Time</th>\n",
              "      <th>Date</th>\n",
              "      <th>Query</th>\n",
              "      <th>Username</th>\n",
              "      <th>Text</th>\n",
              "    </tr>\n",
              "  </thead>\n",
              "  <tbody>\n",
              "    <tr>\n",
              "      <th>0</th>\n",
              "      <td>0</td>\n",
              "      <td>1467810672</td>\n",
              "      <td>Mon Apr 06 22:19:49 PDT 2009</td>\n",
              "      <td>NO_QUERY</td>\n",
              "      <td>scotthamilton</td>\n",
              "      <td>is upset that he can't update his Facebook by ...</td>\n",
              "    </tr>\n",
              "    <tr>\n",
              "      <th>1</th>\n",
              "      <td>0</td>\n",
              "      <td>1467810917</td>\n",
              "      <td>Mon Apr 06 22:19:53 PDT 2009</td>\n",
              "      <td>NO_QUERY</td>\n",
              "      <td>mattycus</td>\n",
              "      <td>@Kenichan I dived many times for the ball. Man...</td>\n",
              "    </tr>\n",
              "    <tr>\n",
              "      <th>2</th>\n",
              "      <td>0</td>\n",
              "      <td>1467811184</td>\n",
              "      <td>Mon Apr 06 22:19:57 PDT 2009</td>\n",
              "      <td>NO_QUERY</td>\n",
              "      <td>ElleCTF</td>\n",
              "      <td>my whole body feels itchy and like its on fire</td>\n",
              "    </tr>\n",
              "    <tr>\n",
              "      <th>3</th>\n",
              "      <td>0</td>\n",
              "      <td>1467811193</td>\n",
              "      <td>Mon Apr 06 22:19:57 PDT 2009</td>\n",
              "      <td>NO_QUERY</td>\n",
              "      <td>Karoli</td>\n",
              "      <td>@nationwideclass no, it's not behaving at all....</td>\n",
              "    </tr>\n",
              "    <tr>\n",
              "      <th>4</th>\n",
              "      <td>0</td>\n",
              "      <td>1467811372</td>\n",
              "      <td>Mon Apr 06 22:20:00 PDT 2009</td>\n",
              "      <td>NO_QUERY</td>\n",
              "      <td>joy_wolf</td>\n",
              "      <td>@Kwesidei not the whole crew</td>\n",
              "    </tr>\n",
              "  </tbody>\n",
              "</table>\n",
              "</div>\n",
              "    <div class=\"colab-df-buttons\">\n",
              "\n",
              "  <div class=\"colab-df-container\">\n",
              "    <button class=\"colab-df-convert\" onclick=\"convertToInteractive('df-e87861ee-d42d-4247-ab4d-83b346d89685')\"\n",
              "            title=\"Convert this dataframe to an interactive table.\"\n",
              "            style=\"display:none;\">\n",
              "\n",
              "  <svg xmlns=\"http://www.w3.org/2000/svg\" height=\"24px\" viewBox=\"0 -960 960 960\">\n",
              "    <path d=\"M120-120v-720h720v720H120Zm60-500h600v-160H180v160Zm220 220h160v-160H400v160Zm0 220h160v-160H400v160ZM180-400h160v-160H180v160Zm440 0h160v-160H620v160ZM180-180h160v-160H180v160Zm440 0h160v-160H620v160Z\"/>\n",
              "  </svg>\n",
              "    </button>\n",
              "\n",
              "  <style>\n",
              "    .colab-df-container {\n",
              "      display:flex;\n",
              "      gap: 12px;\n",
              "    }\n",
              "\n",
              "    .colab-df-convert {\n",
              "      background-color: #E8F0FE;\n",
              "      border: none;\n",
              "      border-radius: 50%;\n",
              "      cursor: pointer;\n",
              "      display: none;\n",
              "      fill: #1967D2;\n",
              "      height: 32px;\n",
              "      padding: 0 0 0 0;\n",
              "      width: 32px;\n",
              "    }\n",
              "\n",
              "    .colab-df-convert:hover {\n",
              "      background-color: #E2EBFA;\n",
              "      box-shadow: 0px 1px 2px rgba(60, 64, 67, 0.3), 0px 1px 3px 1px rgba(60, 64, 67, 0.15);\n",
              "      fill: #174EA6;\n",
              "    }\n",
              "\n",
              "    .colab-df-buttons div {\n",
              "      margin-bottom: 4px;\n",
              "    }\n",
              "\n",
              "    [theme=dark] .colab-df-convert {\n",
              "      background-color: #3B4455;\n",
              "      fill: #D2E3FC;\n",
              "    }\n",
              "\n",
              "    [theme=dark] .colab-df-convert:hover {\n",
              "      background-color: #434B5C;\n",
              "      box-shadow: 0px 1px 3px 1px rgba(0, 0, 0, 0.15);\n",
              "      filter: drop-shadow(0px 1px 2px rgba(0, 0, 0, 0.3));\n",
              "      fill: #FFFFFF;\n",
              "    }\n",
              "  </style>\n",
              "\n",
              "    <script>\n",
              "      const buttonEl =\n",
              "        document.querySelector('#df-e87861ee-d42d-4247-ab4d-83b346d89685 button.colab-df-convert');\n",
              "      buttonEl.style.display =\n",
              "        google.colab.kernel.accessAllowed ? 'block' : 'none';\n",
              "\n",
              "      async function convertToInteractive(key) {\n",
              "        const element = document.querySelector('#df-e87861ee-d42d-4247-ab4d-83b346d89685');\n",
              "        const dataTable =\n",
              "          await google.colab.kernel.invokeFunction('convertToInteractive',\n",
              "                                                    [key], {});\n",
              "        if (!dataTable) return;\n",
              "\n",
              "        const docLinkHtml = 'Like what you see? Visit the ' +\n",
              "          '<a target=\"_blank\" href=https://colab.research.google.com/notebooks/data_table.ipynb>data table notebook</a>'\n",
              "          + ' to learn more about interactive tables.';\n",
              "        element.innerHTML = '';\n",
              "        dataTable['output_type'] = 'display_data';\n",
              "        await google.colab.output.renderOutput(dataTable, element);\n",
              "        const docLink = document.createElement('div');\n",
              "        docLink.innerHTML = docLinkHtml;\n",
              "        element.appendChild(docLink);\n",
              "      }\n",
              "    </script>\n",
              "  </div>\n",
              "\n",
              "\n",
              "<div id=\"df-ce0112eb-aa9d-4ac5-9dfd-e3c40749a3bd\">\n",
              "  <button class=\"colab-df-quickchart\" onclick=\"quickchart('df-ce0112eb-aa9d-4ac5-9dfd-e3c40749a3bd')\"\n",
              "            title=\"Suggest charts\"\n",
              "            style=\"display:none;\">\n",
              "\n",
              "<svg xmlns=\"http://www.w3.org/2000/svg\" height=\"24px\"viewBox=\"0 0 24 24\"\n",
              "     width=\"24px\">\n",
              "    <g>\n",
              "        <path d=\"M19 3H5c-1.1 0-2 .9-2 2v14c0 1.1.9 2 2 2h14c1.1 0 2-.9 2-2V5c0-1.1-.9-2-2-2zM9 17H7v-7h2v7zm4 0h-2V7h2v10zm4 0h-2v-4h2v4z\"/>\n",
              "    </g>\n",
              "</svg>\n",
              "  </button>\n",
              "\n",
              "<style>\n",
              "  .colab-df-quickchart {\n",
              "      --bg-color: #E8F0FE;\n",
              "      --fill-color: #1967D2;\n",
              "      --hover-bg-color: #E2EBFA;\n",
              "      --hover-fill-color: #174EA6;\n",
              "      --disabled-fill-color: #AAA;\n",
              "      --disabled-bg-color: #DDD;\n",
              "  }\n",
              "\n",
              "  [theme=dark] .colab-df-quickchart {\n",
              "      --bg-color: #3B4455;\n",
              "      --fill-color: #D2E3FC;\n",
              "      --hover-bg-color: #434B5C;\n",
              "      --hover-fill-color: #FFFFFF;\n",
              "      --disabled-bg-color: #3B4455;\n",
              "      --disabled-fill-color: #666;\n",
              "  }\n",
              "\n",
              "  .colab-df-quickchart {\n",
              "    background-color: var(--bg-color);\n",
              "    border: none;\n",
              "    border-radius: 50%;\n",
              "    cursor: pointer;\n",
              "    display: none;\n",
              "    fill: var(--fill-color);\n",
              "    height: 32px;\n",
              "    padding: 0;\n",
              "    width: 32px;\n",
              "  }\n",
              "\n",
              "  .colab-df-quickchart:hover {\n",
              "    background-color: var(--hover-bg-color);\n",
              "    box-shadow: 0 1px 2px rgba(60, 64, 67, 0.3), 0 1px 3px 1px rgba(60, 64, 67, 0.15);\n",
              "    fill: var(--button-hover-fill-color);\n",
              "  }\n",
              "\n",
              "  .colab-df-quickchart-complete:disabled,\n",
              "  .colab-df-quickchart-complete:disabled:hover {\n",
              "    background-color: var(--disabled-bg-color);\n",
              "    fill: var(--disabled-fill-color);\n",
              "    box-shadow: none;\n",
              "  }\n",
              "\n",
              "  .colab-df-spinner {\n",
              "    border: 2px solid var(--fill-color);\n",
              "    border-color: transparent;\n",
              "    border-bottom-color: var(--fill-color);\n",
              "    animation:\n",
              "      spin 1s steps(1) infinite;\n",
              "  }\n",
              "\n",
              "  @keyframes spin {\n",
              "    0% {\n",
              "      border-color: transparent;\n",
              "      border-bottom-color: var(--fill-color);\n",
              "      border-left-color: var(--fill-color);\n",
              "    }\n",
              "    20% {\n",
              "      border-color: transparent;\n",
              "      border-left-color: var(--fill-color);\n",
              "      border-top-color: var(--fill-color);\n",
              "    }\n",
              "    30% {\n",
              "      border-color: transparent;\n",
              "      border-left-color: var(--fill-color);\n",
              "      border-top-color: var(--fill-color);\n",
              "      border-right-color: var(--fill-color);\n",
              "    }\n",
              "    40% {\n",
              "      border-color: transparent;\n",
              "      border-right-color: var(--fill-color);\n",
              "      border-top-color: var(--fill-color);\n",
              "    }\n",
              "    60% {\n",
              "      border-color: transparent;\n",
              "      border-right-color: var(--fill-color);\n",
              "    }\n",
              "    80% {\n",
              "      border-color: transparent;\n",
              "      border-right-color: var(--fill-color);\n",
              "      border-bottom-color: var(--fill-color);\n",
              "    }\n",
              "    90% {\n",
              "      border-color: transparent;\n",
              "      border-bottom-color: var(--fill-color);\n",
              "    }\n",
              "  }\n",
              "</style>\n",
              "\n",
              "  <script>\n",
              "    async function quickchart(key) {\n",
              "      const quickchartButtonEl =\n",
              "        document.querySelector('#' + key + ' button');\n",
              "      quickchartButtonEl.disabled = true;  // To prevent multiple clicks.\n",
              "      quickchartButtonEl.classList.add('colab-df-spinner');\n",
              "      try {\n",
              "        const charts = await google.colab.kernel.invokeFunction(\n",
              "            'suggestCharts', [key], {});\n",
              "      } catch (error) {\n",
              "        console.error('Error during call to suggestCharts:', error);\n",
              "      }\n",
              "      quickchartButtonEl.classList.remove('colab-df-spinner');\n",
              "      quickchartButtonEl.classList.add('colab-df-quickchart-complete');\n",
              "    }\n",
              "    (() => {\n",
              "      let quickchartButtonEl =\n",
              "        document.querySelector('#df-ce0112eb-aa9d-4ac5-9dfd-e3c40749a3bd button');\n",
              "      quickchartButtonEl.style.display =\n",
              "        google.colab.kernel.accessAllowed ? 'block' : 'none';\n",
              "    })();\n",
              "  </script>\n",
              "</div>\n",
              "\n",
              "    </div>\n",
              "  </div>\n"
            ],
            "application/vnd.google.colaboratory.intrinsic+json": {
              "type": "dataframe",
              "variable_name": "df"
            }
          },
          "metadata": {},
          "execution_count": 5
        }
      ]
    },
    {
      "cell_type": "markdown",
      "source": [
        "# **Exploratory Data Analysis**"
      ],
      "metadata": {
        "id": "K6TkrqusWuEn"
      }
    },
    {
      "cell_type": "code",
      "source": [
        "df.shape"
      ],
      "metadata": {
        "id": "lMzDTkVeTZoe",
        "outputId": "5493155c-cb26-48fd-f777-b01211b15828",
        "colab": {
          "base_uri": "https://localhost:8080/"
        }
      },
      "execution_count": null,
      "outputs": [
        {
          "output_type": "execute_result",
          "data": {
            "text/plain": [
              "(1599999, 6)"
            ]
          },
          "metadata": {},
          "execution_count": 6
        }
      ]
    },
    {
      "cell_type": "code",
      "source": [
        "df.info"
      ],
      "metadata": {
        "id": "WmL2GAKAVzql",
        "outputId": "e8c67d56-aaf9-42a4-b3cb-54d6e28eabfc",
        "colab": {
          "base_uri": "https://localhost:8080/",
          "height": 204
        }
      },
      "execution_count": null,
      "outputs": [
        {
          "output_type": "execute_result",
          "data": {
            "text/plain": [
              "<bound method DataFrame.info of          Label        Time                          Date     Query  \\\n",
              "0            0  1467810672  Mon Apr 06 22:19:49 PDT 2009  NO_QUERY   \n",
              "1            0  1467810917  Mon Apr 06 22:19:53 PDT 2009  NO_QUERY   \n",
              "2            0  1467811184  Mon Apr 06 22:19:57 PDT 2009  NO_QUERY   \n",
              "3            0  1467811193  Mon Apr 06 22:19:57 PDT 2009  NO_QUERY   \n",
              "4            0  1467811372  Mon Apr 06 22:20:00 PDT 2009  NO_QUERY   \n",
              "...        ...         ...                           ...       ...   \n",
              "1599994      4  2193601966  Tue Jun 16 08:40:49 PDT 2009  NO_QUERY   \n",
              "1599995      4  2193601969  Tue Jun 16 08:40:49 PDT 2009  NO_QUERY   \n",
              "1599996      4  2193601991  Tue Jun 16 08:40:49 PDT 2009  NO_QUERY   \n",
              "1599997      4  2193602064  Tue Jun 16 08:40:49 PDT 2009  NO_QUERY   \n",
              "1599998      4  2193602129  Tue Jun 16 08:40:50 PDT 2009  NO_QUERY   \n",
              "\n",
              "                Username                                               Text  \n",
              "0          scotthamilton  is upset that he can't update his Facebook by ...  \n",
              "1               mattycus  @Kenichan I dived many times for the ball. Man...  \n",
              "2                ElleCTF    my whole body feels itchy and like its on fire   \n",
              "3                 Karoli  @nationwideclass no, it's not behaving at all....  \n",
              "4               joy_wolf                      @Kwesidei not the whole crew   \n",
              "...                  ...                                                ...  \n",
              "1599994  AmandaMarie1028  Just woke up. Having no school is the best fee...  \n",
              "1599995      TheWDBoards  TheWDB.com - Very cool to hear old Walt interv...  \n",
              "1599996           bpbabe  Are you ready for your MoJo Makeover? Ask me f...  \n",
              "1599997     tinydiamondz  Happy 38th Birthday to my boo of alll time!!! ...  \n",
              "1599998   RyanTrevMorris  happy #charitytuesday @theNSPCC @SparksCharity...  \n",
              "\n",
              "[1599999 rows x 6 columns]>"
            ],
            "text/html": [
              "<div style=\"max-width:800px; border: 1px solid var(--colab-border-color);\"><style>\n",
              "      pre.function-repr-contents {\n",
              "        overflow-x: auto;\n",
              "        padding: 8px 12px;\n",
              "        max-height: 500px;\n",
              "      }\n",
              "\n",
              "      pre.function-repr-contents.function-repr-contents-collapsed {\n",
              "        cursor: pointer;\n",
              "        max-height: 100px;\n",
              "      }\n",
              "    </style>\n",
              "    <pre style=\"white-space: initial; background:\n",
              "         var(--colab-secondary-surface-color); padding: 8px 12px;\n",
              "         border-bottom: 1px solid var(--colab-border-color);\"><b>pandas.core.frame.DataFrame.info</b><br/>def info(verbose: bool | None=None, buf: WriteBuffer[str] | None=None, max_cols: int | None=None, memory_usage: bool | str | None=None, show_counts: bool | None=None) -&gt; None</pre><pre class=\"function-repr-contents function-repr-contents-collapsed\" style=\"\"><a class=\"filepath\" style=\"display:none\" href=\"#\">/usr/local/lib/python3.10/dist-packages/pandas/core/frame.py</a>Print a concise summary of a DataFrame.\n",
              "\n",
              "This method prints information about a DataFrame including\n",
              "the index dtype and columns, non-null values and memory usage.\n",
              "\n",
              "Parameters\n",
              "----------\n",
              "verbose : bool, optional\n",
              "    Whether to print the full summary. By default, the setting in\n",
              "    ``pandas.options.display.max_info_columns`` is followed.\n",
              "buf : writable buffer, defaults to sys.stdout\n",
              "    Where to send the output. By default, the output is printed to\n",
              "    sys.stdout. Pass a writable buffer if you need to further process\n",
              "    the output.\n",
              "max_cols : int, optional\n",
              "    When to switch from the verbose to the truncated output. If the\n",
              "    DataFrame has more than `max_cols` columns, the truncated output\n",
              "    is used. By default, the setting in\n",
              "    ``pandas.options.display.max_info_columns`` is used.\n",
              "memory_usage : bool, str, optional\n",
              "    Specifies whether total memory usage of the DataFrame\n",
              "    elements (including the index) should be displayed. By default,\n",
              "    this follows the ``pandas.options.display.memory_usage`` setting.\n",
              "\n",
              "    True always show memory usage. False never shows memory usage.\n",
              "    A value of &#x27;deep&#x27; is equivalent to &quot;True with deep introspection&quot;.\n",
              "    Memory usage is shown in human-readable units (base-2\n",
              "    representation). Without deep introspection a memory estimation is\n",
              "    made based in column dtype and number of rows assuming values\n",
              "    consume the same memory amount for corresponding dtypes. With deep\n",
              "    memory introspection, a real memory usage calculation is performed\n",
              "    at the cost of computational resources. See the\n",
              "    :ref:`Frequently Asked Questions &lt;df-memory-usage&gt;` for more\n",
              "    details.\n",
              "show_counts : bool, optional\n",
              "    Whether to show the non-null counts. By default, this is shown\n",
              "    only if the DataFrame is smaller than\n",
              "    ``pandas.options.display.max_info_rows`` and\n",
              "    ``pandas.options.display.max_info_columns``. A value of True always\n",
              "    shows the counts, and False never shows the counts.\n",
              "\n",
              "Returns\n",
              "-------\n",
              "None\n",
              "    This method prints a summary of a DataFrame and returns None.\n",
              "\n",
              "See Also\n",
              "--------\n",
              "DataFrame.describe: Generate descriptive statistics of DataFrame\n",
              "    columns.\n",
              "DataFrame.memory_usage: Memory usage of DataFrame columns.\n",
              "\n",
              "Examples\n",
              "--------\n",
              "&gt;&gt;&gt; int_values = [1, 2, 3, 4, 5]\n",
              "&gt;&gt;&gt; text_values = [&#x27;alpha&#x27;, &#x27;beta&#x27;, &#x27;gamma&#x27;, &#x27;delta&#x27;, &#x27;epsilon&#x27;]\n",
              "&gt;&gt;&gt; float_values = [0.0, 0.25, 0.5, 0.75, 1.0]\n",
              "&gt;&gt;&gt; df = pd.DataFrame({&quot;int_col&quot;: int_values, &quot;text_col&quot;: text_values,\n",
              "...                   &quot;float_col&quot;: float_values})\n",
              "&gt;&gt;&gt; df\n",
              "    int_col text_col  float_col\n",
              "0        1    alpha       0.00\n",
              "1        2     beta       0.25\n",
              "2        3    gamma       0.50\n",
              "3        4    delta       0.75\n",
              "4        5  epsilon       1.00\n",
              "\n",
              "Prints information of all columns:\n",
              "\n",
              "&gt;&gt;&gt; df.info(verbose=True)\n",
              "&lt;class &#x27;pandas.core.frame.DataFrame&#x27;&gt;\n",
              "RangeIndex: 5 entries, 0 to 4\n",
              "Data columns (total 3 columns):\n",
              " #   Column     Non-Null Count  Dtype\n",
              "---  ------     --------------  -----\n",
              " 0   int_col    5 non-null      int64\n",
              " 1   text_col   5 non-null      object\n",
              " 2   float_col  5 non-null      float64\n",
              "dtypes: float64(1), int64(1), object(1)\n",
              "memory usage: 248.0+ bytes\n",
              "\n",
              "Prints a summary of columns count and its dtypes but not per column\n",
              "information:\n",
              "\n",
              "&gt;&gt;&gt; df.info(verbose=False)\n",
              "&lt;class &#x27;pandas.core.frame.DataFrame&#x27;&gt;\n",
              "RangeIndex: 5 entries, 0 to 4\n",
              "Columns: 3 entries, int_col to float_col\n",
              "dtypes: float64(1), int64(1), object(1)\n",
              "memory usage: 248.0+ bytes\n",
              "\n",
              "Pipe output of DataFrame.info to buffer instead of sys.stdout, get\n",
              "buffer content and writes to a text file:\n",
              "\n",
              "&gt;&gt;&gt; import io\n",
              "&gt;&gt;&gt; buffer = io.StringIO()\n",
              "&gt;&gt;&gt; df.info(buf=buffer)\n",
              "&gt;&gt;&gt; s = buffer.getvalue()\n",
              "&gt;&gt;&gt; with open(&quot;df_info.txt&quot;, &quot;w&quot;,\n",
              "...           encoding=&quot;utf-8&quot;) as f:  # doctest: +SKIP\n",
              "...     f.write(s)\n",
              "260\n",
              "\n",
              "The `memory_usage` parameter allows deep introspection mode, specially\n",
              "useful for big DataFrames and fine-tune memory optimization:\n",
              "\n",
              "&gt;&gt;&gt; random_strings_array = np.random.choice([&#x27;a&#x27;, &#x27;b&#x27;, &#x27;c&#x27;], 10 ** 6)\n",
              "&gt;&gt;&gt; df = pd.DataFrame({\n",
              "...     &#x27;column_1&#x27;: np.random.choice([&#x27;a&#x27;, &#x27;b&#x27;, &#x27;c&#x27;], 10 ** 6),\n",
              "...     &#x27;column_2&#x27;: np.random.choice([&#x27;a&#x27;, &#x27;b&#x27;, &#x27;c&#x27;], 10 ** 6),\n",
              "...     &#x27;column_3&#x27;: np.random.choice([&#x27;a&#x27;, &#x27;b&#x27;, &#x27;c&#x27;], 10 ** 6)\n",
              "... })\n",
              "&gt;&gt;&gt; df.info()\n",
              "&lt;class &#x27;pandas.core.frame.DataFrame&#x27;&gt;\n",
              "RangeIndex: 1000000 entries, 0 to 999999\n",
              "Data columns (total 3 columns):\n",
              " #   Column    Non-Null Count    Dtype\n",
              "---  ------    --------------    -----\n",
              " 0   column_1  1000000 non-null  object\n",
              " 1   column_2  1000000 non-null  object\n",
              " 2   column_3  1000000 non-null  object\n",
              "dtypes: object(3)\n",
              "memory usage: 22.9+ MB\n",
              "\n",
              "&gt;&gt;&gt; df.info(memory_usage=&#x27;deep&#x27;)\n",
              "&lt;class &#x27;pandas.core.frame.DataFrame&#x27;&gt;\n",
              "RangeIndex: 1000000 entries, 0 to 999999\n",
              "Data columns (total 3 columns):\n",
              " #   Column    Non-Null Count    Dtype\n",
              "---  ------    --------------    -----\n",
              " 0   column_1  1000000 non-null  object\n",
              " 1   column_2  1000000 non-null  object\n",
              " 2   column_3  1000000 non-null  object\n",
              "dtypes: object(3)\n",
              "memory usage: 165.9 MB</pre>\n",
              "      <script>\n",
              "      if (google.colab.kernel.accessAllowed && google.colab.files && google.colab.files.view) {\n",
              "        for (const element of document.querySelectorAll('.filepath')) {\n",
              "          element.style.display = 'block'\n",
              "          element.onclick = (event) => {\n",
              "            event.preventDefault();\n",
              "            event.stopPropagation();\n",
              "            google.colab.files.view(element.textContent, 3451);\n",
              "          };\n",
              "        }\n",
              "      }\n",
              "      for (const element of document.querySelectorAll('.function-repr-contents')) {\n",
              "        element.onclick = (event) => {\n",
              "          event.preventDefault();\n",
              "          event.stopPropagation();\n",
              "          element.classList.toggle('function-repr-contents-collapsed');\n",
              "        };\n",
              "      }\n",
              "      </script>\n",
              "      </div>"
            ]
          },
          "metadata": {},
          "execution_count": 7
        }
      ]
    },
    {
      "cell_type": "code",
      "source": [
        "print(\"Length of Dataset:\",len(df))"
      ],
      "metadata": {
        "id": "ABWlfG0RV4fT",
        "outputId": "9e25ad64-445c-498b-c323-2c3cb4a3fd36",
        "colab": {
          "base_uri": "https://localhost:8080/"
        }
      },
      "execution_count": null,
      "outputs": [
        {
          "output_type": "stream",
          "name": "stdout",
          "text": [
            "Length of Dataset: 1599999\n"
          ]
        }
      ]
    },
    {
      "cell_type": "code",
      "source": [
        "df.dtypes"
      ],
      "metadata": {
        "id": "T50BR0oPWROs",
        "outputId": "8d31b75d-79fc-4f52-faab-cda37c1ac567",
        "colab": {
          "base_uri": "https://localhost:8080/",
          "height": 272
        }
      },
      "execution_count": null,
      "outputs": [
        {
          "output_type": "execute_result",
          "data": {
            "text/plain": [
              "Label        int64\n",
              "Time         int64\n",
              "Date        object\n",
              "Query       object\n",
              "Username    object\n",
              "Text        object\n",
              "dtype: object"
            ],
            "text/html": [
              "<div>\n",
              "<style scoped>\n",
              "    .dataframe tbody tr th:only-of-type {\n",
              "        vertical-align: middle;\n",
              "    }\n",
              "\n",
              "    .dataframe tbody tr th {\n",
              "        vertical-align: top;\n",
              "    }\n",
              "\n",
              "    .dataframe thead th {\n",
              "        text-align: right;\n",
              "    }\n",
              "</style>\n",
              "<table border=\"1\" class=\"dataframe\">\n",
              "  <thead>\n",
              "    <tr style=\"text-align: right;\">\n",
              "      <th></th>\n",
              "      <th>0</th>\n",
              "    </tr>\n",
              "  </thead>\n",
              "  <tbody>\n",
              "    <tr>\n",
              "      <th>Label</th>\n",
              "      <td>int64</td>\n",
              "    </tr>\n",
              "    <tr>\n",
              "      <th>Time</th>\n",
              "      <td>int64</td>\n",
              "    </tr>\n",
              "    <tr>\n",
              "      <th>Date</th>\n",
              "      <td>object</td>\n",
              "    </tr>\n",
              "    <tr>\n",
              "      <th>Query</th>\n",
              "      <td>object</td>\n",
              "    </tr>\n",
              "    <tr>\n",
              "      <th>Username</th>\n",
              "      <td>object</td>\n",
              "    </tr>\n",
              "    <tr>\n",
              "      <th>Text</th>\n",
              "      <td>object</td>\n",
              "    </tr>\n",
              "  </tbody>\n",
              "</table>\n",
              "</div><br><label><b>dtype:</b> object</label>"
            ]
          },
          "metadata": {},
          "execution_count": 9
        }
      ]
    },
    {
      "cell_type": "code",
      "source": [
        "print('The Numbers of Columns in our dataset', len(df.columns))\n",
        "print('The Numbers of Rows in our dataset', len(df))"
      ],
      "metadata": {
        "id": "WdXG1mg3Wctb",
        "outputId": "ab968b85-dff5-4c52-d801-c3623ac18615",
        "colab": {
          "base_uri": "https://localhost:8080/"
        }
      },
      "execution_count": null,
      "outputs": [
        {
          "output_type": "stream",
          "name": "stdout",
          "text": [
            "The Numbers of Columns in our dataset 6\n",
            "The Numbers of Rows in our dataset 1599999\n"
          ]
        }
      ]
    },
    {
      "cell_type": "markdown",
      "source": [
        "**Selecting Text and Label Columns from Dataset**"
      ],
      "metadata": {
        "id": "DQLB0zzW9GZE"
      }
    },
    {
      "cell_type": "code",
      "source": [
        "df = df[['Text', 'Label']]"
      ],
      "metadata": {
        "id": "OTDBqD7sWprB"
      },
      "execution_count": null,
      "outputs": []
    },
    {
      "cell_type": "markdown",
      "source": [
        "**Assigning Positive Sentiment 4 To 1**"
      ],
      "metadata": {
        "id": "Sgjd7UGoX_kI"
      }
    },
    {
      "cell_type": "code",
      "source": [
        "df['Label'][df['Label'] == 4] = 1"
      ],
      "metadata": {
        "id": "BbRK3bWgW27L"
      },
      "execution_count": null,
      "outputs": []
    },
    {
      "cell_type": "markdown",
      "source": [
        "**Separating Positive and Negative Tweets**"
      ],
      "metadata": {
        "id": "_yQDLarJYONc"
      }
    },
    {
      "cell_type": "code",
      "source": [
        "df_pos = df[df['Label'] == 1] # Positive\n",
        "df_neg = df[df['Label'] == 0] # Negative"
      ],
      "metadata": {
        "id": "Z3ZysxIMXF09"
      },
      "execution_count": null,
      "outputs": []
    },
    {
      "cell_type": "markdown",
      "source": [
        "**Taking One Fourth Data so we can run Our Machine easily**"
      ],
      "metadata": {
        "id": "ok7cwtcdYEve"
      }
    },
    {
      "cell_type": "code",
      "source": [
        "df_positive = df_pos.iloc[:int(20000)]\n",
        "df_negative = df_neg.iloc[:int(20000)]"
      ],
      "metadata": {
        "id": "5CxKkZjQXQ7L"
      },
      "execution_count": null,
      "outputs": []
    },
    {
      "cell_type": "markdown",
      "source": [
        "**Combining Positive and Negative Tweets**"
      ],
      "metadata": {
        "id": "pnJ9ILv6Yabm"
      }
    },
    {
      "cell_type": "code",
      "source": [
        "data = pd.concat([df_positive, df_negative])"
      ],
      "metadata": {
        "id": "Z9PG89K8X9Ud"
      },
      "execution_count": null,
      "outputs": []
    },
    {
      "cell_type": "code",
      "source": [
        "data['Text'].head(5)"
      ],
      "metadata": {
        "id": "1aEAhcOaYZ9-",
        "outputId": "d30d56de-219b-4c0d-f3af-1d9c46b5d65c",
        "colab": {
          "base_uri": "https://localhost:8080/",
          "height": 241
        }
      },
      "execution_count": null,
      "outputs": [
        {
          "output_type": "execute_result",
          "data": {
            "text/plain": [
              "799999         I LOVE @Health4UandPets u guys r the best!! \n",
              "800000    im meeting up with one of my besties tonight! ...\n",
              "800001    @DaRealSunisaKim Thanks for the Twitter add, S...\n",
              "800002    Being sick can be really cheap when it hurts t...\n",
              "800003      @LovesBrooklyn2 he has that effect on everyone \n",
              "Name: Text, dtype: object"
            ],
            "text/html": [
              "<div>\n",
              "<style scoped>\n",
              "    .dataframe tbody tr th:only-of-type {\n",
              "        vertical-align: middle;\n",
              "    }\n",
              "\n",
              "    .dataframe tbody tr th {\n",
              "        vertical-align: top;\n",
              "    }\n",
              "\n",
              "    .dataframe thead th {\n",
              "        text-align: right;\n",
              "    }\n",
              "</style>\n",
              "<table border=\"1\" class=\"dataframe\">\n",
              "  <thead>\n",
              "    <tr style=\"text-align: right;\">\n",
              "      <th></th>\n",
              "      <th>Text</th>\n",
              "    </tr>\n",
              "  </thead>\n",
              "  <tbody>\n",
              "    <tr>\n",
              "      <th>799999</th>\n",
              "      <td>I LOVE @Health4UandPets u guys r the best!!</td>\n",
              "    </tr>\n",
              "    <tr>\n",
              "      <th>800000</th>\n",
              "      <td>im meeting up with one of my besties tonight! ...</td>\n",
              "    </tr>\n",
              "    <tr>\n",
              "      <th>800001</th>\n",
              "      <td>@DaRealSunisaKim Thanks for the Twitter add, S...</td>\n",
              "    </tr>\n",
              "    <tr>\n",
              "      <th>800002</th>\n",
              "      <td>Being sick can be really cheap when it hurts t...</td>\n",
              "    </tr>\n",
              "    <tr>\n",
              "      <th>800003</th>\n",
              "      <td>@LovesBrooklyn2 he has that effect on everyone</td>\n",
              "    </tr>\n",
              "  </tbody>\n",
              "</table>\n",
              "</div><br><label><b>dtype:</b> object</label>"
            ]
          },
          "metadata": {},
          "execution_count": 16
        }
      ]
    },
    {
      "cell_type": "markdown",
      "source": [
        "**Cleaning And Removing StopWords in English**"
      ],
      "metadata": {
        "id": "nnkmhYaiYng5"
      }
    },
    {
      "cell_type": "code",
      "source": [
        "nltk.download('stopwords')"
      ],
      "metadata": {
        "id": "JlWX79hFYzB0",
        "outputId": "0412a933-420a-4eda-fc1e-3745130a441d",
        "colab": {
          "base_uri": "https://localhost:8080/"
        }
      },
      "execution_count": null,
      "outputs": [
        {
          "output_type": "stream",
          "name": "stderr",
          "text": [
            "[nltk_data] Downloading package stopwords to /root/nltk_data...\n",
            "[nltk_data]   Unzipping corpora/stopwords.zip.\n"
          ]
        },
        {
          "output_type": "execute_result",
          "data": {
            "text/plain": [
              "True"
            ]
          },
          "metadata": {},
          "execution_count": 17
        }
      ]
    },
    {
      "cell_type": "code",
      "source": [
        "stopword_list = stopwords.words('english')"
      ],
      "metadata": {
        "id": "p2qglPfYYkD4"
      },
      "execution_count": null,
      "outputs": []
    },
    {
      "cell_type": "code",
      "source": [
        "from nltk.corpus import stopwords\n",
        "\", \".join(stopwords.words('english'))  # \"Retrieve and display a comma-separated list of English stopwords.\""
      ],
      "metadata": {
        "id": "pDg6_EIbYwro",
        "outputId": "3421384e-f1c2-4685-8947-7fc4a2376f0e",
        "colab": {
          "base_uri": "https://localhost:8080/",
          "height": 140
        }
      },
      "execution_count": null,
      "outputs": [
        {
          "output_type": "execute_result",
          "data": {
            "text/plain": [
              "\"i, me, my, myself, we, our, ours, ourselves, you, you're, you've, you'll, you'd, your, yours, yourself, yourselves, he, him, his, himself, she, she's, her, hers, herself, it, it's, its, itself, they, them, their, theirs, themselves, what, which, who, whom, this, that, that'll, these, those, am, is, are, was, were, be, been, being, have, has, had, having, do, does, did, doing, a, an, the, and, but, if, or, because, as, until, while, of, at, by, for, with, about, against, between, into, through, during, before, after, above, below, to, from, up, down, in, out, on, off, over, under, again, further, then, once, here, there, when, where, why, how, all, any, both, each, few, more, most, other, some, such, no, nor, not, only, own, same, so, than, too, very, s, t, can, will, just, don, don't, should, should've, now, d, ll, m, o, re, ve, y, ain, aren, aren't, couldn, couldn't, didn, didn't, doesn, doesn't, hadn, hadn't, hasn, hasn't, haven, haven't, isn, isn't, ma, mightn, mightn't, mustn, mustn't, needn, needn't, shan, shan't, shouldn, shouldn't, wasn, wasn't, weren, weren't, won, won't, wouldn, wouldn't\""
            ],
            "application/vnd.google.colaboratory.intrinsic+json": {
              "type": "string"
            }
          },
          "metadata": {},
          "execution_count": 19
        }
      ]
    },
    {
      "cell_type": "markdown",
      "source": [
        "**Cleaning and Removing The Above Stopwords from the Tweet Text**"
      ],
      "metadata": {
        "id": "UjxYel01ZBvs"
      }
    },
    {
      "cell_type": "code",
      "source": [
        "STOPWORDS = set(stopwords.words('english'))\n",
        "def cleaning_stopwords(text):\n",
        "  words = [word for word in str(text).split() if word not in STOPWORDS]\n",
        "  return \" \".join(words)\n"
      ],
      "metadata": {
        "id": "hKycLgrIY9VV"
      },
      "execution_count": null,
      "outputs": []
    },
    {
      "cell_type": "code",
      "source": [
        "data['Text'] = data['Text'].apply(lambda x: cleaning_stopwords(x))\n",
        "data['Text'].head()"
      ],
      "metadata": {
        "id": "Y7Sqn9BIZdhE",
        "outputId": "4a9619b5-db59-4da5-cdfa-e2da576ebe19",
        "colab": {
          "base_uri": "https://localhost:8080/",
          "height": 241
        }
      },
      "execution_count": null,
      "outputs": [
        {
          "output_type": "execute_result",
          "data": {
            "text/plain": [
              "799999              I LOVE @Health4UandPets u guys r best!!\n",
              "800000    im meeting one besties tonight! Cant wait!! - ...\n",
              "800001    @DaRealSunisaKim Thanks Twitter add, Sunisa! I...\n",
              "800002    Being sick really cheap hurts much eat real fo...\n",
              "800003                      @LovesBrooklyn2 effect everyone\n",
              "Name: Text, dtype: object"
            ],
            "text/html": [
              "<div>\n",
              "<style scoped>\n",
              "    .dataframe tbody tr th:only-of-type {\n",
              "        vertical-align: middle;\n",
              "    }\n",
              "\n",
              "    .dataframe tbody tr th {\n",
              "        vertical-align: top;\n",
              "    }\n",
              "\n",
              "    .dataframe thead th {\n",
              "        text-align: right;\n",
              "    }\n",
              "</style>\n",
              "<table border=\"1\" class=\"dataframe\">\n",
              "  <thead>\n",
              "    <tr style=\"text-align: right;\">\n",
              "      <th></th>\n",
              "      <th>Text</th>\n",
              "    </tr>\n",
              "  </thead>\n",
              "  <tbody>\n",
              "    <tr>\n",
              "      <th>799999</th>\n",
              "      <td>I LOVE @Health4UandPets u guys r best!!</td>\n",
              "    </tr>\n",
              "    <tr>\n",
              "      <th>800000</th>\n",
              "      <td>im meeting one besties tonight! Cant wait!! - ...</td>\n",
              "    </tr>\n",
              "    <tr>\n",
              "      <th>800001</th>\n",
              "      <td>@DaRealSunisaKim Thanks Twitter add, Sunisa! I...</td>\n",
              "    </tr>\n",
              "    <tr>\n",
              "      <th>800002</th>\n",
              "      <td>Being sick really cheap hurts much eat real fo...</td>\n",
              "    </tr>\n",
              "    <tr>\n",
              "      <th>800003</th>\n",
              "      <td>@LovesBrooklyn2 effect everyone</td>\n",
              "    </tr>\n",
              "  </tbody>\n",
              "</table>\n",
              "</div><br><label><b>dtype:</b> object</label>"
            ]
          },
          "metadata": {},
          "execution_count": 22
        }
      ]
    },
    {
      "cell_type": "markdown",
      "source": [
        "**Cleaning and Removing Punctuation**"
      ],
      "metadata": {
        "id": "5NuanItDZsxB"
      }
    },
    {
      "cell_type": "code",
      "source": [
        "english_punctuation = string.punctuation\n",
        "punctuation_list = english_punctuation\n",
        "def cleaning_punctuation(text):\n",
        "  translator = str.maketrans('', '', punctuation_list)\n",
        "  return text.translate(translator)"
      ],
      "metadata": {
        "id": "wU8CBDxlZiGu"
      },
      "execution_count": null,
      "outputs": []
    },
    {
      "cell_type": "code",
      "source": [
        "data['Text'] = data['Text'].apply(lambda x: cleaning_punctuation(x))\n",
        "data[\"Text\"].tail(3)"
      ],
      "metadata": {
        "id": "P2SHbQQQaDte",
        "outputId": "ff8ea278-c3e3-4204-ffac-05c079c529fc",
        "colab": {
          "base_uri": "https://localhost:8080/",
          "height": 178
        }
      },
      "execution_count": null,
      "outputs": [
        {
          "output_type": "execute_result",
          "data": {
            "text/plain": [
              "19997    geezi hv READ whole book personality types emb...\n",
              "19998    I threw sign donnie bent get thingee made sad ...\n",
              "19999    heather2711 Good thing I find None ones I like...\n",
              "Name: Text, dtype: object"
            ],
            "text/html": [
              "<div>\n",
              "<style scoped>\n",
              "    .dataframe tbody tr th:only-of-type {\n",
              "        vertical-align: middle;\n",
              "    }\n",
              "\n",
              "    .dataframe tbody tr th {\n",
              "        vertical-align: top;\n",
              "    }\n",
              "\n",
              "    .dataframe thead th {\n",
              "        text-align: right;\n",
              "    }\n",
              "</style>\n",
              "<table border=\"1\" class=\"dataframe\">\n",
              "  <thead>\n",
              "    <tr style=\"text-align: right;\">\n",
              "      <th></th>\n",
              "      <th>Text</th>\n",
              "    </tr>\n",
              "  </thead>\n",
              "  <tbody>\n",
              "    <tr>\n",
              "      <th>19997</th>\n",
              "      <td>geezi hv READ whole book personality types emb...</td>\n",
              "    </tr>\n",
              "    <tr>\n",
              "      <th>19998</th>\n",
              "      <td>I threw sign donnie bent get thingee made sad ...</td>\n",
              "    </tr>\n",
              "    <tr>\n",
              "      <th>19999</th>\n",
              "      <td>heather2711 Good thing I find None ones I like...</td>\n",
              "    </tr>\n",
              "  </tbody>\n",
              "</table>\n",
              "</div><br><label><b>dtype:</b> object</label>"
            ]
          },
          "metadata": {},
          "execution_count": 24
        }
      ]
    },
    {
      "cell_type": "markdown",
      "source": [
        "**Cleaning And Removing Repeating Characters**"
      ],
      "metadata": {
        "id": "FP1YivBHaOA3"
      }
    },
    {
      "cell_type": "code",
      "source": [
        "def cleaning_repeating_char(text):\n",
        "  return re.sub(r'()\\1+', r'\\1', text)"
      ],
      "metadata": {
        "id": "BcM6CPBjaIel"
      },
      "execution_count": null,
      "outputs": []
    },
    {
      "cell_type": "code",
      "source": [
        "data['Text'] = data['Text'].apply(lambda x: cleaning_repeating_char(x))"
      ],
      "metadata": {
        "id": "JzwfCZgvab7V"
      },
      "execution_count": null,
      "outputs": []
    },
    {
      "cell_type": "markdown",
      "source": [
        "**Removing Emails**"
      ],
      "metadata": {
        "id": "oo0fM15Iaj1H"
      }
    },
    {
      "cell_type": "code",
      "source": [
        "def cleaning_emails(text):\n",
        "  return re.sub('@[^\\s]+', '', text)"
      ],
      "metadata": {
        "id": "AuJft0oLaiDb"
      },
      "execution_count": null,
      "outputs": []
    },
    {
      "cell_type": "code",
      "source": [
        "data['Text'] = data['Text'].apply(lambda x: cleaning_emails(x))\n",
        "data['Text'].head(3)"
      ],
      "metadata": {
        "id": "nFAJyvVyawKp",
        "outputId": "a3ead0ae-6f50-4873-b6bb-6f4959593f7f",
        "colab": {
          "base_uri": "https://localhost:8080/",
          "height": 178
        }
      },
      "execution_count": null,
      "outputs": [
        {
          "output_type": "execute_result",
          "data": {
            "text/plain": [
              "799999                 I LOVE Health4UandPets u guys r best\n",
              "800000    im meeting one besties tonight Cant wait  GIRL...\n",
              "800001    DaRealSunisaKim Thanks Twitter add Sunisa I go...\n",
              "Name: Text, dtype: object"
            ],
            "text/html": [
              "<div>\n",
              "<style scoped>\n",
              "    .dataframe tbody tr th:only-of-type {\n",
              "        vertical-align: middle;\n",
              "    }\n",
              "\n",
              "    .dataframe tbody tr th {\n",
              "        vertical-align: top;\n",
              "    }\n",
              "\n",
              "    .dataframe thead th {\n",
              "        text-align: right;\n",
              "    }\n",
              "</style>\n",
              "<table border=\"1\" class=\"dataframe\">\n",
              "  <thead>\n",
              "    <tr style=\"text-align: right;\">\n",
              "      <th></th>\n",
              "      <th>Text</th>\n",
              "    </tr>\n",
              "  </thead>\n",
              "  <tbody>\n",
              "    <tr>\n",
              "      <th>799999</th>\n",
              "      <td>I LOVE Health4UandPets u guys r best</td>\n",
              "    </tr>\n",
              "    <tr>\n",
              "      <th>800000</th>\n",
              "      <td>im meeting one besties tonight Cant wait  GIRL...</td>\n",
              "    </tr>\n",
              "    <tr>\n",
              "      <th>800001</th>\n",
              "      <td>DaRealSunisaKim Thanks Twitter add Sunisa I go...</td>\n",
              "    </tr>\n",
              "  </tbody>\n",
              "</table>\n",
              "</div><br><label><b>dtype:</b> object</label>"
            ]
          },
          "metadata": {},
          "execution_count": 28
        }
      ]
    },
    {
      "cell_type": "markdown",
      "source": [
        "**Removing URLs**"
      ],
      "metadata": {
        "id": "ERhk955ka51w"
      }
    },
    {
      "cell_type": "code",
      "source": [
        "def cleaning_urls(text):\n",
        "  return re.sub('((www\\.[^\\s]+)|(https?://[^\\s]+))', '', text)"
      ],
      "metadata": {
        "id": "mtdwcsBaa1iv"
      },
      "execution_count": null,
      "outputs": []
    },
    {
      "cell_type": "code",
      "source": [
        "data['Text'] = data['Text'].apply(lambda z: cleaning_urls(z))\n",
        "data['Text'].head(4)"
      ],
      "metadata": {
        "id": "HJjf-dzXbNVx",
        "outputId": "44402454-6dbb-4f4f-8480-81f14096e9fe",
        "colab": {
          "base_uri": "https://localhost:8080/",
          "height": 210
        }
      },
      "execution_count": null,
      "outputs": [
        {
          "output_type": "execute_result",
          "data": {
            "text/plain": [
              "799999                 I LOVE Health4UandPets u guys r best\n",
              "800000    im meeting one besties tonight Cant wait  GIRL...\n",
              "800001    DaRealSunisaKim Thanks Twitter add Sunisa I go...\n",
              "800002    Being sick really cheap hurts much eat real fo...\n",
              "Name: Text, dtype: object"
            ],
            "text/html": [
              "<div>\n",
              "<style scoped>\n",
              "    .dataframe tbody tr th:only-of-type {\n",
              "        vertical-align: middle;\n",
              "    }\n",
              "\n",
              "    .dataframe tbody tr th {\n",
              "        vertical-align: top;\n",
              "    }\n",
              "\n",
              "    .dataframe thead th {\n",
              "        text-align: right;\n",
              "    }\n",
              "</style>\n",
              "<table border=\"1\" class=\"dataframe\">\n",
              "  <thead>\n",
              "    <tr style=\"text-align: right;\">\n",
              "      <th></th>\n",
              "      <th>Text</th>\n",
              "    </tr>\n",
              "  </thead>\n",
              "  <tbody>\n",
              "    <tr>\n",
              "      <th>799999</th>\n",
              "      <td>I LOVE Health4UandPets u guys r best</td>\n",
              "    </tr>\n",
              "    <tr>\n",
              "      <th>800000</th>\n",
              "      <td>im meeting one besties tonight Cant wait  GIRL...</td>\n",
              "    </tr>\n",
              "    <tr>\n",
              "      <th>800001</th>\n",
              "      <td>DaRealSunisaKim Thanks Twitter add Sunisa I go...</td>\n",
              "    </tr>\n",
              "    <tr>\n",
              "      <th>800002</th>\n",
              "      <td>Being sick really cheap hurts much eat real fo...</td>\n",
              "    </tr>\n",
              "  </tbody>\n",
              "</table>\n",
              "</div><br><label><b>dtype:</b> object</label>"
            ]
          },
          "metadata": {},
          "execution_count": 30
        }
      ]
    },
    {
      "cell_type": "markdown",
      "source": [
        "**Removing Numeric Values**"
      ],
      "metadata": {
        "id": "UCR99JhsbiuK"
      }
    },
    {
      "cell_type": "code",
      "source": [
        "def cleaning_numbers(text):\n",
        "  return re.sub('[0-9]+', '', text)"
      ],
      "metadata": {
        "id": "QfFUw5UDbUE8"
      },
      "execution_count": null,
      "outputs": []
    },
    {
      "cell_type": "code",
      "source": [
        "data['Text'] = data['Text'].apply(lambda x: cleaning_numbers(x))\n",
        "data[\"Text\"].tail()"
      ],
      "metadata": {
        "id": "Xj02eazQbqmS",
        "outputId": "16b342de-ed08-4390-ba11-a3eb60de5252",
        "colab": {
          "base_uri": "https://localhost:8080/",
          "height": 241
        }
      },
      "execution_count": null,
      "outputs": [
        {
          "output_type": "execute_result",
          "data": {
            "text/plain": [
              "19995                                     One day holidays\n",
              "19996                     feeling right  hate DAMN HUMPREY\n",
              "19997    geezi hv READ whole book personality types emb...\n",
              "19998    I threw sign donnie bent get thingee made sad ...\n",
              "19999    heather Good thing I find None ones I like com...\n",
              "Name: Text, dtype: object"
            ],
            "text/html": [
              "<div>\n",
              "<style scoped>\n",
              "    .dataframe tbody tr th:only-of-type {\n",
              "        vertical-align: middle;\n",
              "    }\n",
              "\n",
              "    .dataframe tbody tr th {\n",
              "        vertical-align: top;\n",
              "    }\n",
              "\n",
              "    .dataframe thead th {\n",
              "        text-align: right;\n",
              "    }\n",
              "</style>\n",
              "<table border=\"1\" class=\"dataframe\">\n",
              "  <thead>\n",
              "    <tr style=\"text-align: right;\">\n",
              "      <th></th>\n",
              "      <th>Text</th>\n",
              "    </tr>\n",
              "  </thead>\n",
              "  <tbody>\n",
              "    <tr>\n",
              "      <th>19995</th>\n",
              "      <td>One day holidays</td>\n",
              "    </tr>\n",
              "    <tr>\n",
              "      <th>19996</th>\n",
              "      <td>feeling right  hate DAMN HUMPREY</td>\n",
              "    </tr>\n",
              "    <tr>\n",
              "      <th>19997</th>\n",
              "      <td>geezi hv READ whole book personality types emb...</td>\n",
              "    </tr>\n",
              "    <tr>\n",
              "      <th>19998</th>\n",
              "      <td>I threw sign donnie bent get thingee made sad ...</td>\n",
              "    </tr>\n",
              "    <tr>\n",
              "      <th>19999</th>\n",
              "      <td>heather Good thing I find None ones I like com...</td>\n",
              "    </tr>\n",
              "  </tbody>\n",
              "</table>\n",
              "</div><br><label><b>dtype:</b> object</label>"
            ]
          },
          "metadata": {},
          "execution_count": 32
        }
      ]
    },
    {
      "cell_type": "markdown",
      "source": [
        "**Getting Tokenization Of Tweet Text**"
      ],
      "metadata": {
        "id": "NDSHd6kVbzBf"
      }
    },
    {
      "cell_type": "code",
      "source": [
        "tokenizer = RegexpTokenizer(r'\\w+') # this match one or more words, digits, underscores\n",
        "data['Text'] = data['Text'].apply(tokenizer.tokenize)\n",
        "data['Text'].head(2)"
      ],
      "metadata": {
        "id": "6cFu-RVEbyBQ",
        "outputId": "09387f83-4191-425c-8c67-3eb01931848f",
        "colab": {
          "base_uri": "https://localhost:8080/",
          "height": 147
        }
      },
      "execution_count": null,
      "outputs": [
        {
          "output_type": "execute_result",
          "data": {
            "text/plain": [
              "799999          [I, LOVE, HealthUandPets, u, guys, r, best]\n",
              "800000    [im, meeting, one, besties, tonight, Cant, wai...\n",
              "Name: Text, dtype: object"
            ],
            "text/html": [
              "<div>\n",
              "<style scoped>\n",
              "    .dataframe tbody tr th:only-of-type {\n",
              "        vertical-align: middle;\n",
              "    }\n",
              "\n",
              "    .dataframe tbody tr th {\n",
              "        vertical-align: top;\n",
              "    }\n",
              "\n",
              "    .dataframe thead th {\n",
              "        text-align: right;\n",
              "    }\n",
              "</style>\n",
              "<table border=\"1\" class=\"dataframe\">\n",
              "  <thead>\n",
              "    <tr style=\"text-align: right;\">\n",
              "      <th></th>\n",
              "      <th>Text</th>\n",
              "    </tr>\n",
              "  </thead>\n",
              "  <tbody>\n",
              "    <tr>\n",
              "      <th>799999</th>\n",
              "      <td>[I, LOVE, HealthUandPets, u, guys, r, best]</td>\n",
              "    </tr>\n",
              "    <tr>\n",
              "      <th>800000</th>\n",
              "      <td>[im, meeting, one, besties, tonight, Cant, wai...</td>\n",
              "    </tr>\n",
              "  </tbody>\n",
              "</table>\n",
              "</div><br><label><b>dtype:</b> object</label>"
            ]
          },
          "metadata": {},
          "execution_count": 33
        }
      ]
    },
    {
      "cell_type": "markdown",
      "source": [
        "**Applyig Stemming**"
      ],
      "metadata": {
        "id": "booPFnqDcaqH"
      }
    },
    {
      "cell_type": "code",
      "source": [
        "st = nltk.PorterStemmer()\n",
        "\n",
        "def stemming_on_text(data):\n",
        "  text = [st.stem(word) for word in data]\n",
        "  return text"
      ],
      "metadata": {
        "id": "MRifSjlycCR8"
      },
      "execution_count": null,
      "outputs": []
    },
    {
      "cell_type": "code",
      "source": [
        "data['Text'] = data['Text'].apply(lambda x: stemming_on_text(x))"
      ],
      "metadata": {
        "id": "M8S1ZO9Bcf_o"
      },
      "execution_count": null,
      "outputs": []
    },
    {
      "cell_type": "code",
      "source": [
        "data['Text'].head()"
      ],
      "metadata": {
        "id": "H4IwC6Hicsng",
        "outputId": "4ffe69b4-3e18-43dd-da40-03056411a998",
        "colab": {
          "base_uri": "https://localhost:8080/",
          "height": 241
        }
      },
      "execution_count": null,
      "outputs": [
        {
          "output_type": "execute_result",
          "data": {
            "text/plain": [
              "799999            [i, love, healthuandpet, u, guy, r, best]\n",
              "800000    [im, meet, one, besti, tonight, cant, wait, gi...\n",
              "800001    [darealsunisakim, thank, twitter, add, sunisa,...\n",
              "800002    [be, sick, realli, cheap, hurt, much, eat, rea...\n",
              "800003                     [lovesbrooklyn, effect, everyon]\n",
              "Name: Text, dtype: object"
            ],
            "text/html": [
              "<div>\n",
              "<style scoped>\n",
              "    .dataframe tbody tr th:only-of-type {\n",
              "        vertical-align: middle;\n",
              "    }\n",
              "\n",
              "    .dataframe tbody tr th {\n",
              "        vertical-align: top;\n",
              "    }\n",
              "\n",
              "    .dataframe thead th {\n",
              "        text-align: right;\n",
              "    }\n",
              "</style>\n",
              "<table border=\"1\" class=\"dataframe\">\n",
              "  <thead>\n",
              "    <tr style=\"text-align: right;\">\n",
              "      <th></th>\n",
              "      <th>Text</th>\n",
              "    </tr>\n",
              "  </thead>\n",
              "  <tbody>\n",
              "    <tr>\n",
              "      <th>799999</th>\n",
              "      <td>[i, love, healthuandpet, u, guy, r, best]</td>\n",
              "    </tr>\n",
              "    <tr>\n",
              "      <th>800000</th>\n",
              "      <td>[im, meet, one, besti, tonight, cant, wait, gi...</td>\n",
              "    </tr>\n",
              "    <tr>\n",
              "      <th>800001</th>\n",
              "      <td>[darealsunisakim, thank, twitter, add, sunisa,...</td>\n",
              "    </tr>\n",
              "    <tr>\n",
              "      <th>800002</th>\n",
              "      <td>[be, sick, realli, cheap, hurt, much, eat, rea...</td>\n",
              "    </tr>\n",
              "    <tr>\n",
              "      <th>800003</th>\n",
              "      <td>[lovesbrooklyn, effect, everyon]</td>\n",
              "    </tr>\n",
              "  </tbody>\n",
              "</table>\n",
              "</div><br><label><b>dtype:</b> object</label>"
            ]
          },
          "metadata": {},
          "execution_count": 36
        }
      ]
    },
    {
      "cell_type": "markdown",
      "source": [
        "**Applying Lemmatization**"
      ],
      "metadata": {
        "id": "Zuj5okTQcylO"
      }
    },
    {
      "cell_type": "code",
      "source": [
        "lm = nltk.WordNetLemmatizer()\n",
        "\n",
        "def lemmatizer_on_text(data):\n",
        "  text = [lm.lemmatize(word) for word in data]\n",
        "  return text"
      ],
      "metadata": {
        "id": "tO1HGBOjcwTW"
      },
      "execution_count": null,
      "outputs": []
    },
    {
      "cell_type": "code",
      "source": [
        "nltk.download('wordnet')\n",
        "nltk.download('punkt')"
      ],
      "metadata": {
        "colab": {
          "base_uri": "https://localhost:8080/"
        },
        "id": "KqWi2NqE9ngF",
        "outputId": "efb47004-5f21-4b38-ee42-9ecfeee6fe18"
      },
      "execution_count": null,
      "outputs": [
        {
          "output_type": "stream",
          "name": "stderr",
          "text": [
            "[nltk_data] Downloading package wordnet to /root/nltk_data...\n",
            "[nltk_data] Downloading package punkt to /root/nltk_data...\n",
            "[nltk_data]   Unzipping tokenizers/punkt.zip.\n"
          ]
        },
        {
          "output_type": "execute_result",
          "data": {
            "text/plain": [
              "True"
            ]
          },
          "metadata": {},
          "execution_count": 39
        }
      ]
    },
    {
      "cell_type": "code",
      "source": [
        "data['Text'] = data['Text'].apply(lambda x: lemmatizer_on_text(x))\n",
        "data['Text'].head(4)"
      ],
      "metadata": {
        "id": "KLQpXE6sdDGh",
        "outputId": "2134862a-d89c-428a-dd0a-6f384a806b6c",
        "colab": {
          "base_uri": "https://localhost:8080/",
          "height": 210
        }
      },
      "execution_count": null,
      "outputs": [
        {
          "output_type": "execute_result",
          "data": {
            "text/plain": [
              "799999            [i, love, healthuandpet, u, guy, r, best]\n",
              "800000    [im, meet, one, besti, tonight, cant, wait, gi...\n",
              "800001    [darealsunisakim, thank, twitter, add, sunisa,...\n",
              "800002    [be, sick, realli, cheap, hurt, much, eat, rea...\n",
              "Name: Text, dtype: object"
            ],
            "text/html": [
              "<div>\n",
              "<style scoped>\n",
              "    .dataframe tbody tr th:only-of-type {\n",
              "        vertical-align: middle;\n",
              "    }\n",
              "\n",
              "    .dataframe tbody tr th {\n",
              "        vertical-align: top;\n",
              "    }\n",
              "\n",
              "    .dataframe thead th {\n",
              "        text-align: right;\n",
              "    }\n",
              "</style>\n",
              "<table border=\"1\" class=\"dataframe\">\n",
              "  <thead>\n",
              "    <tr style=\"text-align: right;\">\n",
              "      <th></th>\n",
              "      <th>Text</th>\n",
              "    </tr>\n",
              "  </thead>\n",
              "  <tbody>\n",
              "    <tr>\n",
              "      <th>799999</th>\n",
              "      <td>[i, love, healthuandpet, u, guy, r, best]</td>\n",
              "    </tr>\n",
              "    <tr>\n",
              "      <th>800000</th>\n",
              "      <td>[im, meet, one, besti, tonight, cant, wait, gi...</td>\n",
              "    </tr>\n",
              "    <tr>\n",
              "      <th>800001</th>\n",
              "      <td>[darealsunisakim, thank, twitter, add, sunisa,...</td>\n",
              "    </tr>\n",
              "    <tr>\n",
              "      <th>800002</th>\n",
              "      <td>[be, sick, realli, cheap, hurt, much, eat, rea...</td>\n",
              "    </tr>\n",
              "  </tbody>\n",
              "</table>\n",
              "</div><br><label><b>dtype:</b> object</label>"
            ]
          },
          "metadata": {},
          "execution_count": 40
        }
      ]
    },
    {
      "cell_type": "markdown",
      "source": [
        "**Labels:**\n",
        "\n",
        "\n",
        "Labels are the target, like in this project sentiment of tweets are labels.\n",
        "\n",
        "\n",
        "**Inputs:**\n",
        "\n",
        "Inputs are the data that we feed into our ML model, and In that project tweets are like inputs.\n",
        "\n",
        "\n",
        "**Training Data:**\n",
        "\n",
        "We use training data when we train the models. We feed train data to ML and DL Models so that model can learn from it.\n",
        "\n",
        "\n",
        "**Validation Data:**\n",
        "\n",
        "We use Validation Data while training the Model. We use this data to evaluate the model performance that how the model perform on training time.\n",
        "\n",
        "\n",
        "**Testing Data:**\n",
        "\n",
        "We use Testing Data after training the model. We use this data to evaluate how the model perform after training. So in that way first we get Predictions from the trained model without giving the labels and then we compare the true label with the predictions and get the performance of Model."
      ],
      "metadata": {
        "id": "5AhDoyTpdToI"
      }
    },
    {
      "cell_type": "markdown",
      "source": [
        "**Separating Input Features and Labels**"
      ],
      "metadata": {
        "id": "ToFYscuDfKmI"
      }
    },
    {
      "cell_type": "code",
      "source": [
        "X = data.Text\n",
        "y = data.Label"
      ],
      "metadata": {
        "id": "9SPsJtIidKka"
      },
      "execution_count": null,
      "outputs": []
    },
    {
      "cell_type": "markdown",
      "source": [
        "**Preparing The Input Feature for Traning**\n",
        "\n",
        "We Converting the text words into arrays.\n",
        "\\\n",
        "Max 500 features/words selected for training. These 500 words will be selected on the importance that will distinguish between the positive and negative tweets"
      ],
      "metadata": {
        "id": "m1Kfa6MRfWq_"
      }
    },
    {
      "cell_type": "code",
      "source": [
        "max_len = 500 #  We set the maximum length of each sequence to 500.\n",
        "tok = Tokenizer(num_words = 2000) # The tokenizer extracts the top 2000 most frequent words from the dataset.\n",
        "tok.fit_on_texts(X)  #  Fit tokenizer to text data X, it will learn the vocabulary and frequency of each word\n",
        "sequences = tok.texts_to_sequences(X)  #  Convert text to sequences\n",
        "sequences_matrix = sequence.pad_sequences(sequences, maxlen=max_len)  # Pad sequences to max length"
      ],
      "metadata": {
        "id": "ANsuZkcKfEDq"
      },
      "execution_count": null,
      "outputs": []
    },
    {
      "cell_type": "markdown",
      "source": [
        "As we can see that total 40000 tweets and 500 words/features"
      ],
      "metadata": {
        "id": "VuuwE5FNhf5J"
      }
    },
    {
      "cell_type": "code",
      "source": [
        "sequences_matrix.shape"
      ],
      "metadata": {
        "id": "F6GvnxZZhUwr",
        "outputId": "12006e98-7784-46db-c12b-6d2e2303533a",
        "colab": {
          "base_uri": "https://localhost:8080/"
        }
      },
      "execution_count": null,
      "outputs": [
        {
          "output_type": "execute_result",
          "data": {
            "text/plain": [
              "(40000, 500)"
            ]
          },
          "metadata": {},
          "execution_count": 43
        }
      ]
    },
    {
      "cell_type": "markdown",
      "source": [
        "**Separating The 70% for Training and 30% for Testing**"
      ],
      "metadata": {
        "id": "4ugKZZplhsP4"
      }
    },
    {
      "cell_type": "markdown",
      "source": [
        "\n",
        "As we prepared all the tweets, now we are separating/splitting the data into training and the testing data.\n",
        "\n",
        "-- 70% will be use for training our model.\n",
        "\n",
        "-- 30% will be use for testing our mode."
      ],
      "metadata": {
        "id": "EZb0OcmhiPUO"
      }
    },
    {
      "cell_type": "code",
      "source": [
        "X_train, X_test, y_train, y_test = train_test_split(sequences_matrix, y, test_size = 0.3, random_state = 3)\n"
      ],
      "metadata": {
        "id": "QCGv-hdbgQuZ"
      },
      "execution_count": null,
      "outputs": []
    },
    {
      "cell_type": "markdown",
      "source": [
        "**Step 1:**\n",
        "\n",
        "-- The Input to model is 500 words because these are the number features/words we extracted above from the text tweets"
      ],
      "metadata": {
        "id": "jpXL_rIZifd_"
      }
    },
    {
      "cell_type": "markdown",
      "source": [
        "**Step 2:**\n",
        "\n",
        "-- Embedding Provides The presentation of words and their relative meanings. Like in this, we are feeding the limit of max words. length of input words and the input of previous layer."
      ],
      "metadata": {
        "id": "4pdOsuGpixyO"
      }
    },
    {
      "cell_type": "markdown",
      "source": [
        "**Step 3:**\n",
        "\n",
        "-- LSTM (Long Short Term Memory) saves the words and predicts the next word based on the previous words. LSTM is the sequence predictor of next coming word"
      ],
      "metadata": {
        "id": "ZQuMukmGjHjZ"
      }
    },
    {
      "cell_type": "markdown",
      "source": [
        "**Step 4:**\n",
        "\n",
        "-- Dense Layers reduce the output by getting the input from flatten layer. Dense layer use all the inputs of previous layer neurons and performs calculations and send 256 outputs"
      ],
      "metadata": {
        "id": "uurFkVDbjj70"
      }
    },
    {
      "cell_type": "markdown",
      "source": [
        "**Step 5:**\n",
        "\n",
        "-- Activation function is a node that is put at the end of all Neural Network Model  or in between Neural Network Layers. The activation function help to decide which neuron should be passed and which neuron should fire. So activation function of node defines the output of that node given an input or set of inputs."
      ],
      "metadata": {
        "id": "9PhesRSwknBC"
      }
    },
    {
      "cell_type": "markdown",
      "source": [
        "![Activation-Functions-In-Neural-Networks.png](data:image/png;base64,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)"
      ],
      "metadata": {
        "id": "ZD13RhbCmeOC"
      }
    },
    {
      "cell_type": "markdown",
      "source": [
        "**Step 6:**\n",
        "\n",
        "-- Dropout layer drop some neurons from previous layer. why we apply this? we apply this to avoid the overfitting problem. In Overfitting, model give a good accuracy on training data but fail on testing data."
      ],
      "metadata": {
        "id": "gamIPDI0nuuu"
      }
    },
    {
      "cell_type": "code",
      "source": [
        "def tensorflow_based_model(): # defined tensorflow_based_model function for training tensorflow based model.\n",
        "  inputs = Input(name = 'inputs', shape = [max_len]) # step 1\n",
        "  layer = Embedding(20000, 50, input_length = max_len)(inputs) # step 2\n",
        "  layer = LSTM(64)(layer) # step 3\n",
        "  layer = Dense(256, name = 'FC1')(layer) # Step 4\n",
        "  layer = Activation('relu')(layer) # step 5\n",
        "  layer = Dropout(0.5)(layer) # step 6\n",
        "  layer = Dense(1, name = 'out_layer')(layer) # Step 4 again but this time its giving only one output because we need to classify the twweets as positive or negative\n",
        "  layer = Activation('sigmoid')(layer) # Step 5 but this time activation is sigmoid for only 1 output\n",
        "  model = Model(inputs = inputs, outputs = layer) # here we are getting the final output  value in the model for classification\n",
        "  return model  # function returning the value when we call it."
      ],
      "metadata": {
        "id": "cau9lzE2idU_"
      },
      "execution_count": null,
      "outputs": []
    },
    {
      "cell_type": "markdown",
      "source": [
        "**Model Completion:**\n",
        "\n",
        "-- First we are calling a model.\n",
        "\n",
        "-- We are using 2 classes so we set \"binary_crossentropy\" and if we use more then 2 classes we use \"categorical_crossentropy\"\n",
        "\n",
        "-- Optimizer is a function that used to change the features of neural network such as learning rate (how the model learn with features) in order ot reduce the loss. So the learning rate of neural network to reduce the losses is defined by the optimizer\n",
        "\n",
        "-- We are setting metrics = accuracy because we are going to calculate the percentageof correct predictions on the validation set."
      ],
      "metadata": {
        "id": "XvBK4ihnp7bo"
      }
    },
    {
      "cell_type": "code",
      "source": [
        "model = tensorflow_based_model() # here we are calling the function of created model.\n",
        "\n",
        "model.compile(loss = 'binary_crossentropy', optimizer = RMSprop(), metrics = ['accuracy'])"
      ],
      "metadata": {
        "id": "u-VcwT7Bp4Np"
      },
      "execution_count": null,
      "outputs": []
    },
    {
      "cell_type": "markdown",
      "source": [
        "**Training and Validating with Parameter Tuning:**\n",
        "\n",
        "-- We are feeding a training data and getting 10% data for validation from trainig data.\n",
        "\n",
        "**We set the following Parameters**\n",
        "\n",
        "-- Batch Size = 80 so that the model takes 80 tweets in each iteration and train them. Batch size is a term used in ML and refers to the number of training examples utilized in one iteration.\n",
        "\n",
        "-- Epochs = 6 So the model will train on data 6 times, Epoch is a term used in ML and indicates the number of passes of the entire training dataset the Machine Learning algorithm has completed.\n",
        "\n",
        "-- We can choose batch_size, and epochs as we want, so the good practice is to set some values and train the model if the model does not give good results we can change it and try again for the training of the model. We can repeat this process many time until we will not get the good results and this process called **Parameter Tuning**"
      ],
      "metadata": {
        "id": "deWZih-Nsf9T"
      }
    },
    {
      "cell_type": "code",
      "source": [
        "history = model.fit(X_train, y_train, batch_size = 80, epochs = 6, validation_split=0.1, ) # here we are starting the training of model by feeding the training data\n",
        "print(\"Training Finished!!!\")"
      ],
      "metadata": {
        "id": "GeQr94hmrMUY",
        "outputId": "a15d0088-3e4a-4ac7-c7f8-d59ca2a281c3",
        "colab": {
          "base_uri": "https://localhost:8080/"
        }
      },
      "execution_count": null,
      "outputs": [
        {
          "output_type": "stream",
          "name": "stdout",
          "text": [
            "Epoch 1/6\n",
            "\u001b[1m315/315\u001b[0m \u001b[32m━━━━━━━━━━━━━━━━━━━━\u001b[0m\u001b[37m\u001b[0m \u001b[1m13s\u001b[0m 23ms/step - accuracy: 0.5830 - loss: 0.6584 - val_accuracy: 0.7464 - val_loss: 0.5187\n",
            "Epoch 2/6\n",
            "\u001b[1m315/315\u001b[0m \u001b[32m━━━━━━━━━━━━━━━━━━━━\u001b[0m\u001b[37m\u001b[0m \u001b[1m7s\u001b[0m 23ms/step - accuracy: 0.7489 - loss: 0.5171 - val_accuracy: 0.7518 - val_loss: 0.5091\n",
            "Epoch 3/6\n",
            "\u001b[1m315/315\u001b[0m \u001b[32m━━━━━━━━━━━━━━━━━━━━\u001b[0m\u001b[37m\u001b[0m \u001b[1m6s\u001b[0m 21ms/step - accuracy: 0.7663 - loss: 0.4889 - val_accuracy: 0.7479 - val_loss: 0.5110\n",
            "Epoch 4/6\n",
            "\u001b[1m315/315\u001b[0m \u001b[32m━━━━━━━━━━━━━━━━━━━━\u001b[0m\u001b[37m\u001b[0m \u001b[1m7s\u001b[0m 22ms/step - accuracy: 0.7461 - loss: 0.5217 - val_accuracy: 0.7514 - val_loss: 0.5047\n",
            "Epoch 5/6\n",
            "\u001b[1m315/315\u001b[0m \u001b[32m━━━━━━━━━━━━━━━━━━━━\u001b[0m\u001b[37m\u001b[0m \u001b[1m7s\u001b[0m 21ms/step - accuracy: 0.7755 - loss: 0.4752 - val_accuracy: 0.7457 - val_loss: 0.5055\n",
            "Epoch 6/6\n",
            "\u001b[1m315/315\u001b[0m \u001b[32m━━━━━━━━━━━━━━━━━━━━\u001b[0m\u001b[37m\u001b[0m \u001b[1m10s\u001b[0m 21ms/step - accuracy: 0.7765 - loss: 0.4672 - val_accuracy: 0.7493 - val_loss: 0.5101\n",
            "Training Finished!!!\n"
          ]
        }
      ]
    },
    {
      "cell_type": "markdown",
      "source": [
        "**We need to do all the above configurations to train the model. If we don't set all settings then we couldn't get the desired result.**"
      ],
      "metadata": {
        "id": "elXz5SlewiI2"
      }
    },
    {
      "cell_type": "markdown",
      "source": [
        "**Testing The Trained Model on Test Data:**\n",
        "\n",
        "-- Getting Predictions/Classifying the sentiments (Positive/Negative) on the test data using trained model."
      ],
      "metadata": {
        "id": "0IeLQMsRw6sm"
      }
    },
    {
      "cell_type": "code",
      "source": [
        "accr1 = model.evaluate(X_test, y_test)"
      ],
      "metadata": {
        "id": "L7f3p3P_tPbK",
        "outputId": "6961425d-5b7b-4db4-a6c9-0643e2bcc00c",
        "colab": {
          "base_uri": "https://localhost:8080/"
        }
      },
      "execution_count": null,
      "outputs": [
        {
          "output_type": "stream",
          "name": "stdout",
          "text": [
            "\u001b[1m375/375\u001b[0m \u001b[32m━━━━━━━━━━━━━━━━━━━━\u001b[0m\u001b[37m\u001b[0m \u001b[1m5s\u001b[0m 13ms/step - accuracy: 0.7409 - loss: 0.5265\n"
          ]
        }
      ]
    },
    {
      "cell_type": "markdown",
      "source": [
        "**Accuracy:**\n",
        "\n",
        "-- Accuracy is the number of correctly classifying tweets from all the tweets of positive and negative.\n",
        "\n",
        "-- For Example, If the trained model classify the 70 tweets correct and 30 tweets wrong from the total 100 tweets then the accuracy score will be 70%.\n",
        "\n",
        "-- Accuracy = Total Numbers of Correct Predictions/Total Number of Predictions"
      ],
      "metadata": {
        "id": "OSM6QvCAxRkQ"
      }
    },
    {
      "cell_type": "code",
      "source": [
        "print('Test set\\n Accuracy: {:0.2f}'.format(accr1[1])) # the accuracy of model on the test data is given below!"
      ],
      "metadata": {
        "id": "OZfSsMHfxO11",
        "outputId": "503ca847-062d-4172-9aa8-3c0117575371",
        "colab": {
          "base_uri": "https://localhost:8080/"
        }
      },
      "execution_count": null,
      "outputs": [
        {
          "output_type": "stream",
          "name": "stdout",
          "text": [
            "Test set\n",
            " Accuracy: 0.75\n"
          ]
        }
      ]
    },
    {
      "cell_type": "markdown",
      "source": [
        "**Geting Predictions of the test data and then we will compare the true labels/classes of the data with predictions.**\n",
        "\n",
        "-- As the model give probabilites so we are setting a threshold 0.5. More than 0.5 will be positive tweets and lower will be negative tweets."
      ],
      "metadata": {
        "id": "AJE_yCvZyOV7"
      }
    },
    {
      "cell_type": "code",
      "source": [
        "y_pred = model.predict(X_test)  # getting predictions on the trained model!\n",
        "y_pred = (y_pred > 0.5)"
      ],
      "metadata": {
        "id": "LGqExJD4yK0g",
        "outputId": "cfe9dc92-6a15-4602-ce04-4c71fdd86a69",
        "colab": {
          "base_uri": "https://localhost:8080/"
        }
      },
      "execution_count": null,
      "outputs": [
        {
          "output_type": "stream",
          "name": "stdout",
          "text": [
            "\u001b[1m375/375\u001b[0m \u001b[32m━━━━━━━━━━━━━━━━━━━━\u001b[0m\u001b[37m\u001b[0m \u001b[1m3s\u001b[0m 9ms/step\n"
          ]
        }
      ]
    },
    {
      "cell_type": "markdown",
      "source": [
        "**Confusion Matrix**\n",
        "\n",
        "-- These are the evaluation measures to evaluate the model performance.\n",
        "\n",
        "-- **Dark Blue** boxes are the correct predictions by the trained model and **sky Blue** boxes shows the wrong predictions.\n",
        "\n",
        "-- 4440 tweets correctly predicted as negative sentiments. 1572 tweets predicted positive sentiment but that were actually negative sentiments.\n",
        "\n",
        "-- 4503 tweets correctly predicted as positive sentiments.1485 tweets predicted negative sentiments but that were actually positive sentiments."
      ],
      "metadata": {
        "id": "UKaQYxuEy2pN"
      }
    },
    {
      "cell_type": "code",
      "source": [
        "print('Confusion Matirx')\n",
        "CR = confusion_matrix(y_test, y_pred)\n",
        "print(CR)\n",
        "print('\\n')\n",
        "\n",
        "fig, ax = plot_confusion_matrix(conf_mat = CR, figsize = (5, 5),\n",
        "                                show_absolute = True,\n",
        "                                show_normed = True,\n",
        "                                colorbar = True)\n",
        "plt.show()\n"
      ],
      "metadata": {
        "id": "_NbsDNMVyzAz",
        "outputId": "8a1fa76a-73a5-4d7f-f91f-0e510e16a2b7",
        "colab": {
          "base_uri": "https://localhost:8080/",
          "height": 518
        }
      },
      "execution_count": null,
      "outputs": [
        {
          "output_type": "stream",
          "name": "stdout",
          "text": [
            "Confusion Matirx\n",
            "[[4440 1572]\n",
            " [1485 4503]]\n",
            "\n",
            "\n"
          ]
        },
        {
          "output_type": "display_data",
          "data": {
            "text/plain": [
              "<Figure size 500x500 with 2 Axes>"
            ],
            "image/png": "[encoded data removed]"
          },
          "metadata": {}
        }
      ]
    },
    {
      "cell_type": "markdown",
      "source": [
        "**Roc Curve:**\n",
        "\n",
        "-- ROC Curve show the performance of Model as well.\n",
        "\n",
        "-- We can see that the model started from the 0% perdictions and move to true positive predictions that are correct.\n",
        "\n",
        "-- ROC Curve (Reciever Operating Characteristics Curve) shows the performance of classification model at all the classification threshold. ROC plot two parameters, True Positive Rate (Correct Predictions/classification) and False Positive Rate (Wrong Predictions/classification)."
      ],
      "metadata": {
        "id": "pZeFLfJQ8GsR"
      }
    },
    {
      "cell_type": "code",
      "source": [
        "fpr, tpr, thresholds = roc_curve(y_test, y_pred)\n",
        "roc_auc = auc(fpr, tpr)\n",
        "plt.figure(figsize = (6, 4))\n",
        "plt.plot(fpr, tpr, color = 'darkorange', lw = 1, label = 'ROC curve (area = %0.2f)' % roc_auc)\n",
        "plt.xlim([0.0, 1.0])\n",
        "plt.ylim([0.0, 1.05])\n",
        "plt.xlabel('False Positive Rate')\n",
        "plt.ylabel('True Positive Rate')\n",
        "plt.title('Receiver Operating Characteristic (ROC) Curve')\n",
        "plt.legend(loc = 'lower right')\n",
        "plt.show()"
      ],
      "metadata": {
        "id": "Yen4x_F75EzI",
        "colab": {
          "base_uri": "https://localhost:8080/",
          "height": 415
        },
        "outputId": "1850cc68-1f62-4040-f348-155a9125123f"
      },
      "execution_count": null,
      "outputs": [
        {
          "output_type": "display_data",
          "data": {
            "text/plain": [
              "<Figure size 600x400 with 1 Axes>"
            ],
            "image/png": "[encoded data removed]"
          },
          "metadata": {}
        }
      ]
    },
    {
      "cell_type": "markdown",
      "source": [
        "**Conclusion:**\n",
        "\n",
        "-- We used Twitter Sentiment Analysis dataset and explore the data with different ways.\n",
        "\n",
        "-- We have prepared the text data by removing the unnecessary things.\n",
        "\n",
        "-- We trained model based on tensorflow with all settings.\n",
        "\n",
        "-- We evaluate the model with different evaluation measures.\n",
        "\n",
        "-- If you are interested in working on any text-based project, you can apply the same methodology but you will change little settings like names of columns, etc.\n",
        "\n",
        "-- We have worked on the classification problem and specifically, we call it binary classification which is a tow class classification"
      ],
      "metadata": {
        "id": "qpbFrMr1_Rd6"
      }
    },
    {
      "cell_type": "code",
      "source": [],
      "metadata": {
        "id": "ZoJWF790-bsO"
      },
      "execution_count": null,
      "outputs": []
    }
  ],
  "metadata": {
    "colab": {
      "provenance": [],
      "gpuType": "T4",
      "include_colab_link": true
    },
    "kernelspec": {
      "display_name": "Python 3",
      "name": "python3"
    },
    "accelerator": "GPU"
  },
  "nbformat": 4,
  "nbformat_minor": 0
}